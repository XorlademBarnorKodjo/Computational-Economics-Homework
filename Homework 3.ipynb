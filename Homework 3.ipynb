{
 "cells": [
  {
   "cell_type": "markdown",
   "id": "ebd8f735",
   "metadata": {},
   "source": [
    "Create a dictionary that identifies your name, major(s)/minor(s), motivation for taking the course, and plans for after you graduate from NDSU. Transform this into a dataframe. Print the dataframe and save the datframe as a csv."
   ]
  },
  {
   "cell_type": "code",
   "execution_count": 1,
   "id": "b2972179",
   "metadata": {},
   "outputs": [
    {
     "data": {
      "text/plain": [
       "{'Kodjo Barnor': {'Major/minor': 'Applied Economics',\n",
       "  'Motivation': 'Improve Food Safety',\n",
       "  'Plans': 'Teach and Conduct Researc'}}"
      ]
     },
     "execution_count": 1,
     "metadata": {},
     "output_type": "execute_result"
    }
   ],
   "source": [
    "Profile_dct = {\"Kodjo Barnor\": {\"Major/minor\":\"Applied Economics\",\n",
    "                \"Motivation\":\"Improve Food Safety\",\n",
    "                \"Plans\":\"Teach and Conduct Researc\"}\n",
    "               }\n",
    "Profile_dct"
   ]
  },
  {
   "cell_type": "code",
   "execution_count": 2,
   "id": "e05327b0",
   "metadata": {},
   "outputs": [
    {
     "data": {
      "text/html": [
       "<div>\n",
       "<style scoped>\n",
       "    .dataframe tbody tr th:only-of-type {\n",
       "        vertical-align: middle;\n",
       "    }\n",
       "\n",
       "    .dataframe tbody tr th {\n",
       "        vertical-align: top;\n",
       "    }\n",
       "\n",
       "    .dataframe thead th {\n",
       "        text-align: right;\n",
       "    }\n",
       "</style>\n",
       "<table border=\"1\" class=\"dataframe\">\n",
       "  <thead>\n",
       "    <tr style=\"text-align: right;\">\n",
       "      <th></th>\n",
       "      <th>Kodjo Barnor</th>\n",
       "    </tr>\n",
       "  </thead>\n",
       "  <tbody>\n",
       "    <tr>\n",
       "      <th>Major/minor</th>\n",
       "      <td>Applied Economics</td>\n",
       "    </tr>\n",
       "    <tr>\n",
       "      <th>Motivation</th>\n",
       "      <td>Improve Food Safety</td>\n",
       "    </tr>\n",
       "    <tr>\n",
       "      <th>Plans</th>\n",
       "      <td>Teach and Conduct Researc</td>\n",
       "    </tr>\n",
       "  </tbody>\n",
       "</table>\n",
       "</div>"
      ],
      "text/plain": [
       "                          Kodjo Barnor\n",
       "Major/minor          Applied Economics\n",
       "Motivation         Improve Food Safety\n",
       "Plans        Teach and Conduct Researc"
      ]
     },
     "execution_count": 2,
     "metadata": {},
     "output_type": "execute_result"
    }
   ],
   "source": [
    "import pandas as pd\n",
    "\n",
    "Profile_df = pd.DataFrame(Profile_dct)\n",
    "Profile_df"
   ]
  },
  {
   "cell_type": "code",
   "execution_count": 3,
   "id": "c15e8374",
   "metadata": {},
   "outputs": [],
   "source": [
    "Profile_df.to_csv(\"KodjoProfile.csv\")"
   ]
  },
  {
   "cell_type": "markdown",
   "id": "d68151ee",
   "metadata": {},
   "source": [
    "Create a dictionary with the same structure as the dictionary we created in the in class project for 10 professionals or specialists that you admire. The dictionary should include keys that identify the name of the professional, their area of expertise, a short biography, and a link to their website (or social media profile if no website is available). Print the dataframe and save this dataframe as a csv."
   ]
  },
  {
   "cell_type": "code",
   "execution_count": 4,
   "id": "7e506b6a",
   "metadata": {},
   "outputs": [
    {
     "data": {
      "text/plain": [
       "{'Kofi Annan': {'Areas of Specialization': 'Diplomat',\n",
       "  'Bio': 'Kofi Atta Annan (/ˈkoʊfi ˈænæn/;[1] 8 April 1938 – 18 August 2018) was a Ghanaian diplomat who served as the seventh Secretary-General of the United Nations from January 1997 to December 2006.[2] Annan and the UN were the co-recipients of the 2001 Nobel Peace Prize.[3] He was the founder and chairman of the Kofi Annan Foundation, as well as chairman of The Elders, an international organization founded by Nelson Mandela.[4]',\n",
       "  'Website': 'https://en.wikipedia.org/wiki/Kofi_Annan'},\n",
       " 'Cristiano Ronaldo': {'Areas of Specialization': 'Footballer',\n",
       "  'Bio': \"Cristiano Ronaldo dos Santos Aveiro GOIH ComM (Portuguese pronunciation: [kɾiʃˈtjɐnu ʁɔˈnaɫdu]; born 5 February 1985) is a Portuguese professional footballer who plays as a forward for Premier League club Manchester United and captains the Portugal national team. Often considered the best player in the world and widely regarded as one of the greatest players of all time, Ronaldo has won five Ballon d'Or awards[note 3] and four European Golden Shoes, the most by a European player. He has won 32 trophies in his career, including seven league titles, five UEFA Champions Leagues, one UEFA European Championship and one UEFA Nations League. Ronaldo holds the records for most goals (134) and assists (42) in the Champions League, most goals in the European Championship (14), and most international goals by a male player (111). He is one of the few recorded players to have made over 1,100 professional career appearances, and has scored over 780 official senior career goals for club and country.\",\n",
       "  'Website': 'https://en.wikipedia.org/wiki/Cristiano_Ronaldo'},\n",
       " 'Muhammed Ali': {'Areas of Specialization': 'Boxer',\n",
       "  'Bio': 'Muhammad Ali (/ɑːˈliː/;[3] born Cassius Marcellus Clay Jr.;[4] January 17, 1942 – June 3, 2016) was an American professional boxer, activist, entertainer, poet, and philanthropist. Nicknamed The Greatest, he is widely regarded as one of the most significant and celebrated figures of the 20th century, and is frequently ranked as the best heavyweight boxer of all time.',\n",
       "  'Website': 'https://en.wikipedia.org/wiki/Muhammad_Ali'},\n",
       " 'Douglass North': {'Areas of Specialization': 'Academic',\n",
       "  'Bio': 'Douglass Cecil North (November 5, 1920 – November 23, 2015) was an American economist known for his work in economic history. He was the co-recipient (with Robert William Fogel) of the 1993 Nobel Memorial Prize in Economic Sciences. In the words of the Nobel Committee, North and Fogel renewed research in economic history by applying economic theory and quantitative methods in order to explain economic and institutional change. ',\n",
       "  'Website': 'https://en.wikipedia.org/wiki/Douglass_North'},\n",
       " 'Kwame Nkrumah': {'Areas of Specialization': 'Polictician',\n",
       "  'Bio': 'Kwame Nkrumah PC (21 September 1909[1][a] – 27 April 1972) was a Ghanaian politician, political theorist, and revolutionary. He was the first Prime Minister and President of Ghana, having led the Gold Coast to independence from Britain in 1957.[2] An influential advocate of Pan-Africanism, Nkrumah was a founding member of the Organization of African Unity and winner of the Lenin Peace Prize from the Soviet Union in 1962.',\n",
       "  'Website': 'https://en.wikipedia.org/wiki/Kwame_Nkrumah'},\n",
       " 'Angela Merkel': {'Areas of Specialization': 'Politician',\n",
       "  'Bio': 'Angela Dorothea Merkel[a] (née Kasner; born 17 July 1954) is a German politician serving as Chancellor of Germany since 2005. She served as Leader of the Opposition from 2002 to 2005 and as Leader of the Christian Democratic Union (CDU) from 2000 to 2018.[9] A member of the Christian Democratic Union, Merkel is the first female chancellor of Germany.[10] Merkel has been variously described as the de facto leader of the European Union and the most powerful woman in the world.',\n",
       "  'Website': 'https://en.wikipedia.org/wiki/Angela_Merkel'},\n",
       " 'Elaine Thompson': {'Areas of Specialization': 'Athelete',\n",
       "  'Bio': 'Elaine Thompson-Herah (née Thompson; born 28 June 1992) is a Jamaican sprinter who competes in the 100 metres and 200 metres. A five-time Olympic champion, she is the fastest woman alive, and the second-fastest in history, over both distances.',\n",
       "  'Website': 'https://en.wikipedia.org/wiki/Elaine_Thompson-Herah'},\n",
       " 'Al Paccino': {'Areas of Specialization': 'Actor',\n",
       "  'Bio': \"Alfredo James Pacino (/pəˈtʃiːnoʊ/; Italian: [paˈtʃiːno]; born April 25, 1940) is an American actor and filmmaker. In a career spanning over five decades, he has received many awards and nominations, including an Academy Award, two Tony Awards, and two Primetime Emmy Awards. He is one of the few performers to have received the Triple Crown of Acting. He has also been honored with the AFI Life Achievement Award, the Cecil B. DeMille Award, and the National Medal of Arts. A method actor and former student of the HB Studio and the Actors Studio, where he was taught by Charlie Laughton and Lee Strasberg, Pacino's film debut came at the age of 29 with a minor role in Me, Natalie (1969). He gained favorable notice for his first lead role as a heroin addict in The Panic in Needle Park (1971). Wide acclaim and recognition came with his breakthrough role as Michael Corleone in Francis Ford Coppola's The Godfather (1972), for which he received a nomination for the Academy Award for Best Supporting Actor, and he would reprise the role in the sequels The Godfather Part II (1974) and The Godfather Part III (1990).\",\n",
       "  'Website': 'https://en.wikipedia.org/wiki/Al_Pacino'},\n",
       " 'Jay Z': {'Areas of Specialization': 'Musician',\n",
       "  'Bio': 'Shawn Corey Carter (born December 4, 1969), known professionally as Jay-Z (styled as JAY-Z),[a] is an American rapper, songwriter, record executive, businessman, and media proprietor. He is widely regarded as one of the most influential hip-hop artists in history[4] and is also well known for being the former CEO of Def Jam Recordings, cultivating major industry artists such as Kanye West, Rihanna, Rick Ross and J. Cole.',\n",
       "  'Website': 'https://en.wikipedia.org/wiki/Jay-Z'},\n",
       " 'Max Ehrmann': {'Areas of Specialization': 'Poet',\n",
       "  'Bio': 'Max Ehrmann (September 26, 1872 – September 9, 1945) was an American writer, poet, and attorney from Terre Haute, Indiana, widely known for his 1927 prose poem Desiderata Latin: things desired. He often wrote on spiritual themes',\n",
       "  'Website': 'https://en.wikipedia.org/wiki/Max_Ehrmann'}}"
      ]
     },
     "execution_count": 4,
     "metadata": {},
     "output_type": "execute_result"
    }
   ],
   "source": [
    "Professionals_dct = {\"Kofi Annan\":{\"Areas of Specialization\":\"Diplomat\",\n",
    "                                   \"Bio\":\"Kofi Atta Annan (/ˈkoʊfi ˈænæn/;[1] 8 April 1938 – 18 August 2018) was a Ghanaian diplomat who served as the seventh Secretary-General of the United Nations from January 1997 to December 2006.[2] Annan and the UN were the co-recipients of the 2001 Nobel Peace Prize.[3] He was the founder and chairman of the Kofi Annan Foundation, as well as chairman of The Elders, an international organization founded by Nelson Mandela.[4]\",\n",
    "                                   \"Website\":\"https://en.wikipedia.org/wiki/Kofi_Annan\"},\n",
    "                     \"Cristiano Ronaldo\":{\"Areas of Specialization\":\"Footballer\",\n",
    "                                   \"Bio\":\"Cristiano Ronaldo dos Santos Aveiro GOIH ComM (Portuguese pronunciation: [kɾiʃˈtjɐnu ʁɔˈnaɫdu]; born 5 February 1985) is a Portuguese professional footballer who plays as a forward for Premier League club Manchester United and captains the Portugal national team. Often considered the best player in the world and widely regarded as one of the greatest players of all time, Ronaldo has won five Ballon d'Or awards[note 3] and four European Golden Shoes, the most by a European player. He has won 32 trophies in his career, including seven league titles, five UEFA Champions Leagues, one UEFA European Championship and one UEFA Nations League. Ronaldo holds the records for most goals (134) and assists (42) in the Champions League, most goals in the European Championship (14), and most international goals by a male player (111). He is one of the few recorded players to have made over 1,100 professional career appearances, and has scored over 780 official senior career goals for club and country.\",\n",
    "                                   \"Website\":\"https://en.wikipedia.org/wiki/Cristiano_Ronaldo\"},\n",
    "                     \"Muhammed Ali\":{\"Areas of Specialization\":\"Boxer\",\n",
    "                                   \"Bio\":\"Muhammad Ali (/ɑːˈliː/;[3] born Cassius Marcellus Clay Jr.;[4] January 17, 1942 – June 3, 2016) was an American professional boxer, activist, entertainer, poet, and philanthropist. Nicknamed The Greatest, he is widely regarded as one of the most significant and celebrated figures of the 20th century, and is frequently ranked as the best heavyweight boxer of all time.\",\n",
    "                                   \"Website\":\"https://en.wikipedia.org/wiki/Muhammad_Ali\"}, \n",
    "                     \"Douglass North\":{\"Areas of Specialization\":\"Academic\",\n",
    "                                   \"Bio\":\"Douglass Cecil North (November 5, 1920 – November 23, 2015) was an American economist known for his work in economic history. He was the co-recipient (with Robert William Fogel) of the 1993 Nobel Memorial Prize in Economic Sciences. In the words of the Nobel Committee, North and Fogel renewed research in economic history by applying economic theory and quantitative methods in order to explain economic and institutional change. \",\n",
    "                                   \"Website\":\"https://en.wikipedia.org/wiki/Douglass_North\"}, \n",
    "                     \"Kwame Nkrumah\":{\"Areas of Specialization\":\"Polictician\",\n",
    "                                   \"Bio\":\"Kwame Nkrumah PC (21 September 1909[1][a] – 27 April 1972) was a Ghanaian politician, political theorist, and revolutionary. He was the first Prime Minister and President of Ghana, having led the Gold Coast to independence from Britain in 1957.[2] An influential advocate of Pan-Africanism, Nkrumah was a founding member of the Organization of African Unity and winner of the Lenin Peace Prize from the Soviet Union in 1962.\",\n",
    "                                   \"Website\":\"https://en.wikipedia.org/wiki/Kwame_Nkrumah\"},\n",
    "                     \"Angela Merkel\":{\"Areas of Specialization\":\"Politician\",\n",
    "                                   \"Bio\":\"Angela Dorothea Merkel[a] (née Kasner; born 17 July 1954) is a German politician serving as Chancellor of Germany since 2005. She served as Leader of the Opposition from 2002 to 2005 and as Leader of the Christian Democratic Union (CDU) from 2000 to 2018.[9] A member of the Christian Democratic Union, Merkel is the first female chancellor of Germany.[10] Merkel has been variously described as the de facto leader of the European Union and the most powerful woman in the world.\",\n",
    "                                   \"Website\":\"https://en.wikipedia.org/wiki/Angela_Merkel\"},\n",
    "                     \"Elaine Thompson\":{\"Areas of Specialization\":\"Athelete\",\n",
    "                                   \"Bio\":\"Elaine Thompson-Herah (née Thompson; born 28 June 1992) is a Jamaican sprinter who competes in the 100 metres and 200 metres. A five-time Olympic champion, she is the fastest woman alive, and the second-fastest in history, over both distances.\",\n",
    "                                   \"Website\":\"https://en.wikipedia.org/wiki/Elaine_Thompson-Herah\"},\n",
    "                     \"Al Paccino\":{\"Areas of Specialization\":\"Actor\",\n",
    "                                   \"Bio\":\"Alfredo James Pacino (/pəˈtʃiːnoʊ/; Italian: [paˈtʃiːno]; born April 25, 1940) is an American actor and filmmaker. In a career spanning over five decades, he has received many awards and nominations, including an Academy Award, two Tony Awards, and two Primetime Emmy Awards. He is one of the few performers to have received the Triple Crown of Acting. He has also been honored with the AFI Life Achievement Award, the Cecil B. DeMille Award, and the National Medal of Arts. A method actor and former student of the HB Studio and the Actors Studio, where he was taught by Charlie Laughton and Lee Strasberg, Pacino's film debut came at the age of 29 with a minor role in Me, Natalie (1969). He gained favorable notice for his first lead role as a heroin addict in The Panic in Needle Park (1971). Wide acclaim and recognition came with his breakthrough role as Michael Corleone in Francis Ford Coppola's The Godfather (1972), for which he received a nomination for the Academy Award for Best Supporting Actor, and he would reprise the role in the sequels The Godfather Part II (1974) and The Godfather Part III (1990).\",\n",
    "                                   \"Website\":\"https://en.wikipedia.org/wiki/Al_Pacino\"},\n",
    "                     \"Jay Z\":{\"Areas of Specialization\":\"Musician\",\n",
    "                                   \"Bio\":\"Shawn Corey Carter (born December 4, 1969), known professionally as Jay-Z (styled as JAY-Z),[a] is an American rapper, songwriter, record executive, businessman, and media proprietor. He is widely regarded as one of the most influential hip-hop artists in history[4] and is also well known for being the former CEO of Def Jam Recordings, cultivating major industry artists such as Kanye West, Rihanna, Rick Ross and J. Cole.\",\n",
    "                                   \"Website\":\"https://en.wikipedia.org/wiki/Jay-Z\"},\n",
    "                     \"Max Ehrmann\":{\"Areas of Specialization\":\"Poet\",\n",
    "                                   \"Bio\":\"Max Ehrmann (September 26, 1872 – September 9, 1945) was an American writer, poet, and attorney from Terre Haute, Indiana, widely known for his 1927 prose poem Desiderata Latin: things desired. He often wrote on spiritual themes\",\n",
    "                                   \"Website\":\"https://en.wikipedia.org/wiki/Max_Ehrmann\"}\n",
    "                }\n",
    "                                   \n",
    "Professionals_dct"
   ]
  },
  {
   "cell_type": "code",
   "execution_count": 7,
   "id": "54cf20d5",
   "metadata": {},
   "outputs": [
    {
     "data": {
      "text/html": [
       "<div>\n",
       "<style scoped>\n",
       "    .dataframe tbody tr th:only-of-type {\n",
       "        vertical-align: middle;\n",
       "    }\n",
       "\n",
       "    .dataframe tbody tr th {\n",
       "        vertical-align: top;\n",
       "    }\n",
       "\n",
       "    .dataframe thead th {\n",
       "        text-align: right;\n",
       "    }\n",
       "</style>\n",
       "<table border=\"1\" class=\"dataframe\">\n",
       "  <thead>\n",
       "    <tr style=\"text-align: right;\">\n",
       "      <th></th>\n",
       "      <th>Kofi Annan</th>\n",
       "      <th>Cristiano Ronaldo</th>\n",
       "      <th>Muhammed Ali</th>\n",
       "      <th>Douglass North</th>\n",
       "      <th>Kwame Nkrumah</th>\n",
       "      <th>Angela Merkel</th>\n",
       "      <th>Elaine Thompson</th>\n",
       "      <th>Al Paccino</th>\n",
       "      <th>Jay Z</th>\n",
       "      <th>Max Ehrmann</th>\n",
       "    </tr>\n",
       "  </thead>\n",
       "  <tbody>\n",
       "    <tr>\n",
       "      <th>Areas of Specialization</th>\n",
       "      <td>Diplomat</td>\n",
       "      <td>Footballer</td>\n",
       "      <td>Boxer</td>\n",
       "      <td>Academic</td>\n",
       "      <td>Polictician</td>\n",
       "      <td>Politician</td>\n",
       "      <td>Athelete</td>\n",
       "      <td>Actor</td>\n",
       "      <td>Musician</td>\n",
       "      <td>Poet</td>\n",
       "    </tr>\n",
       "    <tr>\n",
       "      <th>Bio</th>\n",
       "      <td>Kofi Atta Annan (/ˈkoʊfi ˈænæn/;[1] 8 April 19...</td>\n",
       "      <td>Cristiano Ronaldo dos Santos Aveiro GOIH ComM ...</td>\n",
       "      <td>Muhammad Ali (/ɑːˈliː/;[3] born Cassius Marcel...</td>\n",
       "      <td>Douglass Cecil North (November 5, 1920 – Novem...</td>\n",
       "      <td>Kwame Nkrumah PC (21 September 1909[1][a] – 27...</td>\n",
       "      <td>Angela Dorothea Merkel[a] (née Kasner; born 17...</td>\n",
       "      <td>Elaine Thompson-Herah (née Thompson; born 28 J...</td>\n",
       "      <td>Alfredo James Pacino (/pəˈtʃiːnoʊ/; Italian: [...</td>\n",
       "      <td>Shawn Corey Carter (born December 4, 1969), kn...</td>\n",
       "      <td>Max Ehrmann (September 26, 1872 – September 9,...</td>\n",
       "    </tr>\n",
       "    <tr>\n",
       "      <th>Website</th>\n",
       "      <td>https://en.wikipedia.org/wiki/Kofi_Annan</td>\n",
       "      <td>https://en.wikipedia.org/wiki/Cristiano_Ronaldo</td>\n",
       "      <td>https://en.wikipedia.org/wiki/Muhammad_Ali</td>\n",
       "      <td>https://en.wikipedia.org/wiki/Douglass_North</td>\n",
       "      <td>https://en.wikipedia.org/wiki/Kwame_Nkrumah</td>\n",
       "      <td>https://en.wikipedia.org/wiki/Angela_Merkel</td>\n",
       "      <td>https://en.wikipedia.org/wiki/Elaine_Thompson-...</td>\n",
       "      <td>https://en.wikipedia.org/wiki/Al_Pacino</td>\n",
       "      <td>https://en.wikipedia.org/wiki/Jay-Z</td>\n",
       "      <td>https://en.wikipedia.org/wiki/Max_Ehrmann</td>\n",
       "    </tr>\n",
       "  </tbody>\n",
       "</table>\n",
       "</div>"
      ],
      "text/plain": [
       "                                                                Kofi Annan  \\\n",
       "Areas of Specialization                                           Diplomat   \n",
       "Bio                      Kofi Atta Annan (/ˈkoʊfi ˈænæn/;[1] 8 April 19...   \n",
       "Website                           https://en.wikipedia.org/wiki/Kofi_Annan   \n",
       "\n",
       "                                                         Cristiano Ronaldo  \\\n",
       "Areas of Specialization                                         Footballer   \n",
       "Bio                      Cristiano Ronaldo dos Santos Aveiro GOIH ComM ...   \n",
       "Website                    https://en.wikipedia.org/wiki/Cristiano_Ronaldo   \n",
       "\n",
       "                                                              Muhammed Ali  \\\n",
       "Areas of Specialization                                              Boxer   \n",
       "Bio                      Muhammad Ali (/ɑːˈliː/;[3] born Cassius Marcel...   \n",
       "Website                         https://en.wikipedia.org/wiki/Muhammad_Ali   \n",
       "\n",
       "                                                            Douglass North  \\\n",
       "Areas of Specialization                                           Academic   \n",
       "Bio                      Douglass Cecil North (November 5, 1920 – Novem...   \n",
       "Website                       https://en.wikipedia.org/wiki/Douglass_North   \n",
       "\n",
       "                                                             Kwame Nkrumah  \\\n",
       "Areas of Specialization                                        Polictician   \n",
       "Bio                      Kwame Nkrumah PC (21 September 1909[1][a] – 27...   \n",
       "Website                        https://en.wikipedia.org/wiki/Kwame_Nkrumah   \n",
       "\n",
       "                                                             Angela Merkel  \\\n",
       "Areas of Specialization                                         Politician   \n",
       "Bio                      Angela Dorothea Merkel[a] (née Kasner; born 17...   \n",
       "Website                        https://en.wikipedia.org/wiki/Angela_Merkel   \n",
       "\n",
       "                                                           Elaine Thompson  \\\n",
       "Areas of Specialization                                           Athelete   \n",
       "Bio                      Elaine Thompson-Herah (née Thompson; born 28 J...   \n",
       "Website                  https://en.wikipedia.org/wiki/Elaine_Thompson-...   \n",
       "\n",
       "                                                                Al Paccino  \\\n",
       "Areas of Specialization                                              Actor   \n",
       "Bio                      Alfredo James Pacino (/pəˈtʃiːnoʊ/; Italian: [...   \n",
       "Website                            https://en.wikipedia.org/wiki/Al_Pacino   \n",
       "\n",
       "                                                                     Jay Z  \\\n",
       "Areas of Specialization                                           Musician   \n",
       "Bio                      Shawn Corey Carter (born December 4, 1969), kn...   \n",
       "Website                                https://en.wikipedia.org/wiki/Jay-Z   \n",
       "\n",
       "                                                               Max Ehrmann  \n",
       "Areas of Specialization                                               Poet  \n",
       "Bio                      Max Ehrmann (September 26, 1872 – September 9,...  \n",
       "Website                          https://en.wikipedia.org/wiki/Max_Ehrmann  "
      ]
     },
     "execution_count": 7,
     "metadata": {},
     "output_type": "execute_result"
    }
   ],
   "source": [
    "Professionals_df = pd.DataFrame(Professionals_dct)\n",
    "Professionals_df"
   ]
  },
  {
   "cell_type": "code",
   "execution_count": null,
   "id": "427d2af2",
   "metadata": {},
   "outputs": [],
   "source": [
    "Professional_df.to_csv(\"Professional\")"
   ]
  }
 ],
 "metadata": {
  "kernelspec": {
   "display_name": "Python 3",
   "language": "python",
   "name": "python3"
  },
  "language_info": {
   "codemirror_mode": {
    "name": "ipython",
    "version": 3
   },
   "file_extension": ".py",
   "mimetype": "text/x-python",
   "name": "python",
   "nbconvert_exporter": "python",
   "pygments_lexer": "ipython3",
   "version": "3.8.8"
  }
 },
 "nbformat": 4,
 "nbformat_minor": 5
}
